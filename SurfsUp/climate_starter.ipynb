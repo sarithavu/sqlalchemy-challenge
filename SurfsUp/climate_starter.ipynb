{
 "cells": [
  {
   "cell_type": "code",
   "execution_count": 53,
   "metadata": {},
   "outputs": [],
   "source": [
    "%matplotlib inline\n",
    "from matplotlib import style\n",
    "style.use('fivethirtyeight')\n",
    "import matplotlib.pyplot as plt\n",
    "import matplotlib.dates as mdates\n"
   ]
  },
  {
   "cell_type": "code",
   "execution_count": 18,
   "metadata": {},
   "outputs": [],
   "source": [
    "import numpy as np\n",
    "import pandas as pd\n",
    "import datetime as dt"
   ]
  },
  {
   "cell_type": "markdown",
   "metadata": {},
   "source": [
    "# Reflect Tables into SQLAlchemy ORM"
   ]
  },
  {
   "cell_type": "code",
   "execution_count": 33,
   "metadata": {},
   "outputs": [],
   "source": [
    "# Python SQL toolkit and Object Relational Mapper\n",
    "import sqlalchemy\n",
    "from sqlalchemy.ext.automap import automap_base\n",
    "from sqlalchemy.orm import Session\n",
    "from sqlalchemy import create_engine, func\n"
   ]
  },
  {
   "cell_type": "code",
   "execution_count": 39,
   "metadata": {},
   "outputs": [],
   "source": [
    "# create engine to hawaii.sqlite\n",
    "#engine = create_engine(\"sqlite+pysqlite:///SurfsUp/Resources/hawaii.sqlite\")\n",
    "\n",
    "engine = create_engine(\"sqlite+pysqlite:///\" + r\"C:\\Users\\sarit\\OneDrive\\Desktop\\Class_Folder\\mygithub\\sqlalchemy-challenge\\SurfsUp\\Resources\\hawaii.sqlite\")\n"
   ]
  },
  {
   "cell_type": "code",
   "execution_count": 40,
   "metadata": {},
   "outputs": [
    {
     "name": "stderr",
     "output_type": "stream",
     "text": [
      "C:\\Users\\sarit\\AppData\\Local\\Temp\\ipykernel_22096\\4155001391.py:3: SADeprecationWarning: The AutomapBase.prepare.reflect parameter is deprecated and will be removed in a future release.  Reflection is enabled when AutomapBase.prepare.autoload_with is passed.\n",
      "  Base.prepare(engine, reflect=True)\n"
     ]
    }
   ],
   "source": [
    "# reflect an existing database into a new model\n",
    "Base = automap_base()\n",
    "Base.prepare(engine, reflect=True)\n",
    "\n",
    "# reflect the tables\n",
    "Base.prepare(autoload_with=engine)"
   ]
  },
  {
   "cell_type": "code",
   "execution_count": 41,
   "metadata": {},
   "outputs": [
    {
     "data": {
      "text/plain": [
       "['station', 'measurement']"
      ]
     },
     "execution_count": 41,
     "metadata": {},
     "output_type": "execute_result"
    }
   ],
   "source": [
    "# View all of the classes that automap found\n",
    "Base.classes.keys()"
   ]
  },
  {
   "cell_type": "code",
   "execution_count": 42,
   "metadata": {},
   "outputs": [],
   "source": [
    "# Save references to each table\n",
    "Measurement = Base.classes.measurement\n",
    "Station = Base.classes.station"
   ]
  },
  {
   "cell_type": "code",
   "execution_count": 43,
   "metadata": {},
   "outputs": [],
   "source": [
    "# Create our session (link) from Python to the DB\n",
    "from sqlalchemy.orm import Session\n",
    "session = Session(bind=engine)"
   ]
  },
  {
   "cell_type": "markdown",
   "metadata": {},
   "source": [
    "# Exploratory Precipitation Analysis"
   ]
  },
  {
   "cell_type": "code",
   "execution_count": 61,
   "metadata": {},
   "outputs": [
    {
     "data": {
      "text/plain": [
       "'2017-08-23'"
      ]
     },
     "execution_count": 61,
     "metadata": {},
     "output_type": "execute_result"
    }
   ],
   "source": [
    "# Design a query to retrieve the last 12 months of precipitation data and plot the results. \n",
    "# Starting from the most recent data point in the database. \n",
    "most_recent_date = session.query(func.max(Measurement.date)).scalar()\n",
    "most_recent_date\n"
   ]
  },
  {
   "cell_type": "code",
   "execution_count": 106,
   "metadata": {},
   "outputs": [],
   "source": [
    "# Calculate the date one year from the last date in data set.\n",
    "twelve_months_ago = pd.to_datetime(most_recent_date) - pd.DateOffset(months=12)\n",
    "twelve_months_ago_date = twelve_months_ago.date()"
   ]
  },
  {
   "cell_type": "code",
   "execution_count": 107,
   "metadata": {},
   "outputs": [],
   "source": [
    "precipitation_data = session.query(Measurement.date, Measurement.prcp)\\\n",
    "    .filter(Measurement.date >= twelve_months_ago_date).all()"
   ]
  },
  {
   "cell_type": "code",
   "execution_count": 154,
   "metadata": {},
   "outputs": [
    {
     "data": {
      "text/html": [
       "<div>\n",
       "<style scoped>\n",
       "    .dataframe tbody tr th:only-of-type {\n",
       "        vertical-align: middle;\n",
       "    }\n",
       "\n",
       "    .dataframe tbody tr th {\n",
       "        vertical-align: top;\n",
       "    }\n",
       "\n",
       "    .dataframe thead th {\n",
       "        text-align: right;\n",
       "    }\n",
       "</style>\n",
       "<table border=\"1\" class=\"dataframe\">\n",
       "  <thead>\n",
       "    <tr style=\"text-align: right;\">\n",
       "      <th></th>\n",
       "      <th>Date</th>\n",
       "      <th>Precipitation</th>\n",
       "    </tr>\n",
       "  </thead>\n",
       "  <tbody>\n",
       "    <tr>\n",
       "      <th>0</th>\n",
       "      <td>2016-08-23</td>\n",
       "      <td>0.00</td>\n",
       "    </tr>\n",
       "    <tr>\n",
       "      <th>1</th>\n",
       "      <td>2016-08-24</td>\n",
       "      <td>0.08</td>\n",
       "    </tr>\n",
       "    <tr>\n",
       "      <th>2</th>\n",
       "      <td>2016-08-25</td>\n",
       "      <td>0.08</td>\n",
       "    </tr>\n",
       "    <tr>\n",
       "      <th>3</th>\n",
       "      <td>2016-08-26</td>\n",
       "      <td>0.00</td>\n",
       "    </tr>\n",
       "    <tr>\n",
       "      <th>4</th>\n",
       "      <td>2016-08-27</td>\n",
       "      <td>0.00</td>\n",
       "    </tr>\n",
       "    <tr>\n",
       "      <th>...</th>\n",
       "      <td>...</td>\n",
       "      <td>...</td>\n",
       "    </tr>\n",
       "    <tr>\n",
       "      <th>2225</th>\n",
       "      <td>2017-08-19</td>\n",
       "      <td>0.09</td>\n",
       "    </tr>\n",
       "    <tr>\n",
       "      <th>2226</th>\n",
       "      <td>2017-08-20</td>\n",
       "      <td>NaN</td>\n",
       "    </tr>\n",
       "    <tr>\n",
       "      <th>2227</th>\n",
       "      <td>2017-08-21</td>\n",
       "      <td>0.56</td>\n",
       "    </tr>\n",
       "    <tr>\n",
       "      <th>2228</th>\n",
       "      <td>2017-08-22</td>\n",
       "      <td>0.50</td>\n",
       "    </tr>\n",
       "    <tr>\n",
       "      <th>2229</th>\n",
       "      <td>2017-08-23</td>\n",
       "      <td>0.45</td>\n",
       "    </tr>\n",
       "  </tbody>\n",
       "</table>\n",
       "<p>2230 rows × 2 columns</p>\n",
       "</div>"
      ],
      "text/plain": [
       "            Date  Precipitation\n",
       "0     2016-08-23           0.00\n",
       "1     2016-08-24           0.08\n",
       "2     2016-08-25           0.08\n",
       "3     2016-08-26           0.00\n",
       "4     2016-08-27           0.00\n",
       "...          ...            ...\n",
       "2225  2017-08-19           0.09\n",
       "2226  2017-08-20            NaN\n",
       "2227  2017-08-21           0.56\n",
       "2228  2017-08-22           0.50\n",
       "2229  2017-08-23           0.45\n",
       "\n",
       "[2230 rows x 2 columns]"
      ]
     },
     "execution_count": 154,
     "metadata": {},
     "output_type": "execute_result"
    }
   ],
   "source": [
    "# Save the query results as a Pandas DataFrame. Explicitly set the column names\n",
    "\n",
    "precipitation_df = pd.DataFrame(precipitation_data, columns=['Date', 'Precipitation'])\n",
    "precipitation_df\n"
   ]
  },
  {
   "cell_type": "code",
   "execution_count": 109,
   "metadata": {},
   "outputs": [
    {
     "name": "stdout",
     "output_type": "stream",
     "text": [
      "            Date  Precipitation\n",
      "0     2016-08-23           0.00\n",
      "1009  2016-08-23            NaN\n",
      "1529  2016-08-23           1.79\n",
      "704   2016-08-23           0.05\n",
      "361   2016-08-23           0.15\n",
      "...          ...            ...\n",
      "1527  2017-08-22           0.00\n",
      "1008  2017-08-23           0.00\n",
      "360   2017-08-23           0.00\n",
      "1528  2017-08-23           0.08\n",
      "2229  2017-08-23           0.45\n",
      "\n",
      "[2230 rows x 2 columns]\n"
     ]
    }
   ],
   "source": [
    "# Sort the dataframe by date\n",
    "\n",
    "precipitation_df_sorted = precipitation_df.sort_values(by='Date')\n",
    "\n",
    "print(precipitation_df_sorted)"
   ]
  },
  {
   "cell_type": "code",
   "execution_count": 103,
   "metadata": {},
   "outputs": [
    {
     "data": {
      "image/png": "[encoded data removed]",
      "text/plain": [
       "<Figure size 1200x600 with 1 Axes>"
      ]
     },
     "metadata": {},
     "output_type": "display_data"
    }
   ],
   "source": [
    "# Use Pandas Plotting with Matplotlib to plot the data\n",
    "\n",
    "precipitation_df_sorted.plot(x='Date', y='Precipitation', figsize=(12, 6))\n",
    "plt.xlabel('Date')\n",
    "plt.ylabel('Precipitation (inches)')\n",
    "plt.title('Precipitation Data for the Last 12 Months')\n",
    "plt.xticks(rotation=45)\n",
    "plt.tight_layout()\n",
    "plt.show()"
   ]
  },
  {
   "cell_type": "code",
   "execution_count": 112,
   "metadata": {},
   "outputs": [
    {
     "name": "stdout",
     "output_type": "stream",
     "text": [
      "       Precipitation\n",
      "count    2021.000000\n",
      "mean        0.177279\n",
      "std         0.461190\n",
      "min         0.000000\n",
      "25%         0.000000\n",
      "50%         0.020000\n",
      "75%         0.130000\n",
      "max         6.700000\n"
     ]
    }
   ],
   "source": [
    "# Use Pandas to calculate the summary statistics for the precipitation data\n",
    "#summary_statistics= precipitation_df_sorted['Precipitation'].describe()\n",
    "summary_statistics= precipitation_df_sorted.describe()\n",
    "print(summary_statistics)\n"
   ]
  },
  {
   "cell_type": "code",
   "execution_count": 153,
   "metadata": {},
   "outputs": [
    {
     "data": {
      "text/html": [
       "<div>\n",
       "<style scoped>\n",
       "    .dataframe tbody tr th:only-of-type {\n",
       "        vertical-align: middle;\n",
       "    }\n",
       "\n",
       "    .dataframe tbody tr th {\n",
       "        vertical-align: top;\n",
       "    }\n",
       "\n",
       "    .dataframe thead th {\n",
       "        text-align: right;\n",
       "    }\n",
       "</style>\n",
       "<table border=\"1\" class=\"dataframe\">\n",
       "  <thead>\n",
       "    <tr style=\"text-align: right;\">\n",
       "      <th></th>\n",
       "      <th>Precipitation</th>\n",
       "    </tr>\n",
       "  </thead>\n",
       "  <tbody>\n",
       "    <tr>\n",
       "      <th>count</th>\n",
       "      <td>2021.000000</td>\n",
       "    </tr>\n",
       "    <tr>\n",
       "      <th>mean</th>\n",
       "      <td>0.177279</td>\n",
       "    </tr>\n",
       "    <tr>\n",
       "      <th>std</th>\n",
       "      <td>0.461190</td>\n",
       "    </tr>\n",
       "    <tr>\n",
       "      <th>min</th>\n",
       "      <td>0.000000</td>\n",
       "    </tr>\n",
       "    <tr>\n",
       "      <th>25%</th>\n",
       "      <td>0.000000</td>\n",
       "    </tr>\n",
       "    <tr>\n",
       "      <th>50%</th>\n",
       "      <td>0.020000</td>\n",
       "    </tr>\n",
       "    <tr>\n",
       "      <th>75%</th>\n",
       "      <td>0.130000</td>\n",
       "    </tr>\n",
       "    <tr>\n",
       "      <th>max</th>\n",
       "      <td>6.700000</td>\n",
       "    </tr>\n",
       "  </tbody>\n",
       "</table>\n",
       "</div>"
      ],
      "text/plain": [
       "       Precipitation\n",
       "count    2021.000000\n",
       "mean        0.177279\n",
       "std         0.461190\n",
       "min         0.000000\n",
       "25%         0.000000\n",
       "50%         0.020000\n",
       "75%         0.130000\n",
       "max         6.700000"
      ]
     },
     "execution_count": 153,
     "metadata": {},
     "output_type": "execute_result"
    }
   ],
   "source": [
    "df = pd.DataFrame(summary_statistics)\n",
    "df"
   ]
  },
  {
   "cell_type": "markdown",
   "metadata": {},
   "source": [
    "# Exploratory Station Analysis"
   ]
  },
  {
   "cell_type": "code",
   "execution_count": 81,
   "metadata": {},
   "outputs": [],
   "source": [
    "from sqlalchemy import func"
   ]
  },
  {
   "cell_type": "code",
   "execution_count": 74,
   "metadata": {},
   "outputs": [
    {
     "data": {
      "text/plain": [
       "[(9,)]"
      ]
     },
     "execution_count": 74,
     "metadata": {},
     "output_type": "execute_result"
    }
   ],
   "source": [
    "total_stations = session.query(func.count(func.distinct(Station.station))).all()\n",
    "total_stations\n"
   ]
  },
  {
   "cell_type": "code",
   "execution_count": 132,
   "metadata": {},
   "outputs": [
    {
     "data": {
      "text/plain": [
       "[('USC00519281', 2772),\n",
       " ('USC00519397', 2724),\n",
       " ('USC00513117', 2709),\n",
       " ('USC00519523', 2669),\n",
       " ('USC00516128', 2612),\n",
       " ('USC00514830', 2202),\n",
       " ('USC00511918', 1979),\n",
       " ('USC00517948', 1372),\n",
       " ('USC00518838', 511)]"
      ]
     },
     "execution_count": 132,
     "metadata": {},
     "output_type": "execute_result"
    }
   ],
   "source": [
    "# Design a query to find the most active stations (i.e. which stations have the most rows?)\n",
    "# List the stations and their counts in descending order.\n",
    "\n",
    "results = session.query(Station.station, Station.name, func.count(Measurement.id).label('num_rows')) \\\n",
    "                 .select_from(Station) \\\n",
    "                 .join(Measurement, Station.station== Measurement.station) \\\n",
    "                 .group_by(Station.station, Station.name) \\\n",
    "                 .order_by(func.count(Measurement.id).desc()) \\\n",
    "                 .all()\n",
    "\n",
    "results_list = [(result.station, result.num_rows) for result in results]\n",
    "results_list\n"
   ]
  },
  {
   "cell_type": "code",
   "execution_count": 150,
   "metadata": {},
   "outputs": [
    {
     "data": {
      "text/plain": [
       "'USC00519281'"
      ]
     },
     "execution_count": 150,
     "metadata": {},
     "output_type": "execute_result"
    }
   ],
   "source": [
    "most_active_station = results[0].station  # Get the most active station ID from the previous query results\n",
    "most_active_station\n"
   ]
  },
  {
   "cell_type": "code",
   "execution_count": 151,
   "metadata": {},
   "outputs": [
    {
     "data": {
      "text/plain": [
       "[(54.0, 85.0, 71.66378066378067)]"
      ]
     },
     "execution_count": 151,
     "metadata": {},
     "output_type": "execute_result"
    }
   ],
   "source": [
    "\n",
    "session.query(func.min(Measurement.tobs), func.max(Measurement.tobs), func.avg(Measurement.tobs)) \\\n",
    "       .filter(Measurement.station == most_active_station) \\\n",
    "       .all()"
   ]
  },
  {
   "cell_type": "code",
   "execution_count": 158,
   "metadata": {},
   "outputs": [
    {
     "name": "stdout",
     "output_type": "stream",
     "text": [
      "2016-08-23 77.0\n",
      "2016-08-24 77.0\n",
      "2016-08-25 80.0\n",
      "2016-08-26 80.0\n",
      "2016-08-27 75.0\n",
      "2016-08-28 73.0\n",
      "2016-08-29 78.0\n",
      "2016-08-30 77.0\n",
      "2016-08-31 78.0\n",
      "2016-09-01 80.0\n",
      "2016-09-02 80.0\n",
      "2016-09-03 78.0\n",
      "2016-09-04 78.0\n",
      "2016-09-05 78.0\n",
      "2016-09-06 73.0\n",
      "2016-09-07 74.0\n",
      "2016-09-08 80.0\n",
      "2016-09-09 79.0\n",
      "2016-09-10 77.0\n",
      "2016-09-11 80.0\n",
      "2016-09-12 76.0\n",
      "2016-09-13 79.0\n",
      "2016-09-14 75.0\n",
      "2016-09-15 79.0\n",
      "2016-09-16 78.0\n",
      "2016-09-17 79.0\n",
      "2016-09-18 78.0\n",
      "2016-09-19 78.0\n",
      "2016-09-20 76.0\n",
      "2016-09-21 74.0\n",
      "2016-09-22 77.0\n",
      "2016-09-23 78.0\n",
      "2016-09-24 79.0\n",
      "2016-09-25 79.0\n",
      "2016-09-26 77.0\n",
      "2016-09-27 80.0\n",
      "2016-09-28 78.0\n",
      "2016-09-29 78.0\n",
      "2016-09-30 78.0\n",
      "2016-10-01 77.0\n",
      "2016-10-02 79.0\n",
      "2016-10-03 79.0\n",
      "2016-10-04 79.0\n",
      "2016-10-05 79.0\n",
      "2016-10-06 75.0\n",
      "2016-10-07 76.0\n",
      "2016-10-08 73.0\n",
      "2016-10-09 72.0\n",
      "2016-10-10 71.0\n",
      "2016-10-11 77.0\n",
      "2016-10-12 79.0\n",
      "2016-10-13 78.0\n",
      "2016-10-14 79.0\n",
      "2016-10-15 77.0\n",
      "2016-10-16 79.0\n",
      "2016-10-17 77.0\n",
      "2016-10-18 78.0\n",
      "2016-10-19 78.0\n",
      "2016-10-20 78.0\n",
      "2016-10-21 78.0\n",
      "2016-10-22 77.0\n",
      "2016-10-23 74.0\n",
      "2016-10-24 75.0\n",
      "2016-10-25 76.0\n",
      "2016-10-26 73.0\n",
      "2016-10-27 76.0\n",
      "2016-10-28 74.0\n",
      "2016-10-29 77.0\n",
      "2016-10-30 76.0\n",
      "2016-10-31 76.0\n",
      "2016-11-01 74.0\n",
      "2016-11-02 75.0\n",
      "2016-11-03 75.0\n",
      "2016-11-04 75.0\n",
      "2016-11-05 75.0\n",
      "2016-11-06 71.0\n",
      "2016-11-07 63.0\n",
      "2016-11-08 70.0\n",
      "2016-11-09 68.0\n",
      "2016-11-10 67.0\n",
      "2016-11-11 77.0\n",
      "2016-11-12 74.0\n",
      "2016-11-13 77.0\n",
      "2016-11-14 76.0\n",
      "2016-11-15 76.0\n",
      "2016-11-16 75.0\n",
      "2016-11-17 76.0\n",
      "2016-11-18 75.0\n",
      "2016-11-19 73.0\n",
      "2016-11-20 75.0\n",
      "2016-11-21 73.0\n",
      "2016-11-22 75.0\n",
      "2016-11-23 74.0\n",
      "2016-11-24 75.0\n",
      "2016-11-25 74.0\n",
      "2016-11-26 75.0\n",
      "2016-11-27 73.0\n",
      "2016-11-28 75.0\n",
      "2016-11-29 73.0\n",
      "2016-11-30 73.0\n",
      "2016-12-01 74.0\n",
      "2016-12-02 70.0\n",
      "2016-12-03 72.0\n",
      "2016-12-04 70.0\n",
      "2016-12-05 67.0\n",
      "2016-12-06 67.0\n",
      "2016-12-07 69.0\n",
      "2016-12-08 70.0\n",
      "2016-12-09 68.0\n",
      "2016-12-10 69.0\n",
      "2016-12-11 69.0\n",
      "2016-12-12 66.0\n",
      "2016-12-13 65.0\n",
      "2016-12-14 68.0\n",
      "2016-12-15 62.0\n",
      "2016-12-16 75.0\n",
      "2016-12-17 70.0\n",
      "2016-12-18 69.0\n",
      "2016-12-19 76.0\n",
      "2016-12-20 76.0\n",
      "2016-12-21 74.0\n",
      "2016-12-22 73.0\n",
      "2016-12-23 71.0\n",
      "2016-12-24 74.0\n",
      "2016-12-25 74.0\n",
      "2016-12-26 72.0\n",
      "2016-12-27 71.0\n",
      "2016-12-28 72.0\n",
      "2016-12-29 74.0\n",
      "2016-12-30 69.0\n",
      "2016-12-31 67.0\n",
      "2017-01-01 72.0\n",
      "2017-01-02 70.0\n",
      "2017-01-03 64.0\n",
      "2017-01-04 63.0\n",
      "2017-01-05 63.0\n",
      "2017-01-06 62.0\n",
      "2017-01-07 70.0\n",
      "2017-01-08 70.0\n",
      "2017-01-09 62.0\n",
      "2017-01-10 62.0\n",
      "2017-01-11 63.0\n",
      "2017-01-12 65.0\n",
      "2017-01-13 69.0\n",
      "2017-01-14 77.0\n",
      "2017-01-15 70.0\n",
      "2017-01-16 74.0\n",
      "2017-01-17 69.0\n",
      "2017-01-18 72.0\n",
      "2017-01-19 71.0\n",
      "2017-01-20 69.0\n",
      "2017-01-21 71.0\n",
      "2017-01-22 71.0\n",
      "2017-01-23 72.0\n",
      "2017-01-24 72.0\n",
      "2017-01-25 69.0\n",
      "2017-01-26 70.0\n",
      "2017-01-27 66.0\n",
      "2017-01-28 65.0\n",
      "2017-01-29 69.0\n",
      "2017-01-30 68.0\n",
      "2017-01-31 68.0\n",
      "2017-02-01 68.0\n",
      "2017-02-02 59.0\n",
      "2017-02-03 60.0\n",
      "2017-02-04 70.0\n",
      "2017-02-05 73.0\n",
      "2017-02-06 75.0\n",
      "2017-02-07 64.0\n",
      "2017-02-08 59.0\n",
      "2017-02-09 59.0\n",
      "2017-02-10 62.0\n",
      "2017-02-11 68.0\n",
      "2017-02-12 70.0\n",
      "2017-02-13 73.0\n",
      "2017-02-14 79.0\n",
      "2017-02-15 75.0\n",
      "2017-02-16 65.0\n",
      "2017-02-17 70.0\n",
      "2017-02-18 74.0\n",
      "2017-02-19 70.0\n",
      "2017-02-20 70.0\n",
      "2017-02-21 71.0\n",
      "2017-02-22 71.0\n",
      "2017-02-23 71.0\n",
      "2017-02-24 69.0\n",
      "2017-02-25 61.0\n",
      "2017-02-26 67.0\n",
      "2017-02-27 65.0\n",
      "2017-02-28 72.0\n",
      "2017-03-01 71.0\n",
      "2017-03-02 73.0\n",
      "2017-03-03 72.0\n",
      "2017-03-04 77.0\n",
      "2017-03-05 73.0\n",
      "2017-03-06 67.0\n",
      "2017-03-07 62.0\n",
      "2017-03-08 64.0\n",
      "2017-03-09 67.0\n",
      "2017-03-10 66.0\n",
      "2017-03-11 81.0\n",
      "2017-03-12 69.0\n",
      "2017-03-13 66.0\n",
      "2017-03-14 67.0\n",
      "2017-03-15 69.0\n",
      "2017-03-16 66.0\n",
      "2017-03-17 68.0\n",
      "2017-03-18 65.0\n",
      "2017-03-19 74.0\n",
      "2017-03-20 69.0\n",
      "2017-03-21 72.0\n",
      "2017-03-22 73.0\n",
      "2017-03-23 72.0\n",
      "2017-03-24 71.0\n",
      "2017-03-25 76.0\n",
      "2017-03-26 77.0\n",
      "2017-03-27 76.0\n",
      "2017-03-28 74.0\n",
      "2017-03-29 68.0\n",
      "2017-03-30 73.0\n",
      "2017-03-31 71.0\n",
      "2017-04-01 74.0\n",
      "2017-04-02 75.0\n",
      "2017-04-03 70.0\n",
      "2017-04-04 67.0\n",
      "2017-04-05 71.0\n",
      "2017-04-06 67.0\n",
      "2017-04-07 74.0\n",
      "2017-04-08 77.0\n",
      "2017-04-09 78.0\n",
      "2017-04-10 67.0\n",
      "2017-04-11 70.0\n",
      "2017-04-12 69.0\n",
      "2017-04-13 69.0\n",
      "2017-04-14 74.0\n",
      "2017-04-15 78.0\n",
      "2017-04-16 71.0\n",
      "2017-04-17 67.0\n",
      "2017-04-18 68.0\n",
      "2017-04-19 67.0\n",
      "2017-04-20 76.0\n",
      "2017-04-21 69.0\n",
      "2017-04-22 72.0\n",
      "2017-04-23 76.0\n",
      "2017-04-24 68.0\n",
      "2017-04-25 72.0\n",
      "2017-04-26 74.0\n",
      "2017-04-27 70.0\n",
      "2017-04-28 67.0\n",
      "2017-04-29 72.0\n",
      "2017-04-30 60.0\n",
      "2017-05-01 65.0\n",
      "2017-05-02 75.0\n",
      "2017-05-03 70.0\n",
      "2017-05-04 75.0\n",
      "2017-05-05 70.0\n",
      "2017-05-06 79.0\n",
      "2017-05-07 75.0\n",
      "2017-05-08 70.0\n",
      "2017-05-09 67.0\n",
      "2017-05-10 74.0\n",
      "2017-05-11 70.0\n",
      "2017-05-12 75.0\n",
      "2017-05-13 76.0\n",
      "2017-05-14 77.0\n",
      "2017-05-15 74.0\n",
      "2017-05-16 74.0\n",
      "2017-05-17 74.0\n",
      "2017-05-18 69.0\n",
      "2017-05-19 68.0\n",
      "2017-05-20 76.0\n",
      "2017-05-21 74.0\n",
      "2017-05-22 71.0\n",
      "2017-05-23 71.0\n",
      "2017-05-24 74.0\n",
      "2017-05-25 74.0\n",
      "2017-05-26 74.0\n",
      "2017-05-27 74.0\n",
      "2017-05-28 80.0\n",
      "2017-05-29 74.0\n",
      "2017-05-30 72.0\n",
      "2017-05-31 75.0\n",
      "2017-06-01 80.0\n",
      "2017-06-02 76.0\n",
      "2017-06-03 76.0\n",
      "2017-06-04 77.0\n",
      "2017-06-05 75.0\n",
      "2017-06-06 75.0\n",
      "2017-06-07 75.0\n",
      "2017-06-08 75.0\n",
      "2017-06-09 72.0\n",
      "2017-06-10 74.0\n",
      "2017-06-11 74.0\n",
      "2017-06-12 74.0\n",
      "2017-06-13 76.0\n",
      "2017-06-14 74.0\n",
      "2017-06-15 75.0\n",
      "2017-06-16 73.0\n",
      "2017-06-17 79.0\n",
      "2017-06-18 75.0\n",
      "2017-06-19 72.0\n",
      "2017-06-20 72.0\n",
      "2017-06-21 74.0\n",
      "2017-06-22 72.0\n",
      "2017-06-23 72.0\n",
      "2017-06-24 77.0\n",
      "2017-06-25 71.0\n",
      "2017-06-26 73.0\n",
      "2017-06-27 76.0\n",
      "2017-06-28 77.0\n",
      "2017-06-29 76.0\n",
      "2017-06-30 76.0\n",
      "2017-07-01 79.0\n",
      "2017-07-02 81.0\n",
      "2017-07-03 76.0\n",
      "2017-07-04 78.0\n",
      "2017-07-05 77.0\n",
      "2017-07-06 74.0\n",
      "2017-07-07 75.0\n",
      "2017-07-08 78.0\n",
      "2017-07-09 78.0\n",
      "2017-07-10 69.0\n",
      "2017-07-11 72.0\n",
      "2017-07-12 74.0\n",
      "2017-07-13 74.0\n",
      "2017-07-14 76.0\n",
      "2017-07-15 80.0\n",
      "2017-07-16 80.0\n",
      "2017-07-17 76.0\n",
      "2017-07-18 76.0\n",
      "2017-07-19 76.0\n",
      "2017-07-20 77.0\n",
      "2017-07-21 77.0\n",
      "2017-07-22 77.0\n",
      "2017-07-23 82.0\n",
      "2017-07-24 75.0\n",
      "2017-07-25 77.0\n",
      "2017-07-26 75.0\n",
      "2017-07-27 76.0\n",
      "2017-07-28 81.0\n",
      "2017-07-29 82.0\n",
      "2017-07-30 81.0\n",
      "2017-07-31 76.0\n",
      "2017-08-04 77.0\n",
      "2017-08-05 82.0\n",
      "2017-08-06 83.0\n",
      "2017-08-13 77.0\n",
      "2017-08-14 77.0\n",
      "2017-08-15 77.0\n",
      "2017-08-16 76.0\n",
      "2017-08-17 76.0\n",
      "2017-08-18 79.0\n"
     ]
    }
   ],
   "source": [
    "most_recent_date = session.query(func.max(Measurement.date)).scalar()\n",
    "twelve_months_ago = pd.to_datetime(most_recent_date) - pd.DateOffset(months=12)\n",
    "twelve_months_ago_date = twelve_months_ago.date()\n",
    "\n",
    "# Query the TOBS data for the specific station within the last 12 months\n",
    "tobs_data = session.query(Measurement.date, Measurement.tobs).filter(\n",
    "    Measurement.station == most_active_station,\n",
    "    Measurement.date >= twelve_months_ago_date,\n",
    "    Measurement.date <= most_recent_date\n",
    ").all()\n",
    "\n",
    "for row in tobs_data:\n",
    "    print(row.date, row.tobs)\n"
   ]
  },
  {
   "cell_type": "code",
   "execution_count": 160,
   "metadata": {},
   "outputs": [
    {
     "data": {
      "text/html": [
       "<div>\n",
       "<style scoped>\n",
       "    .dataframe tbody tr th:only-of-type {\n",
       "        vertical-align: middle;\n",
       "    }\n",
       "\n",
       "    .dataframe tbody tr th {\n",
       "        vertical-align: top;\n",
       "    }\n",
       "\n",
       "    .dataframe thead th {\n",
       "        text-align: right;\n",
       "    }\n",
       "</style>\n",
       "<table border=\"1\" class=\"dataframe\">\n",
       "  <thead>\n",
       "    <tr style=\"text-align: right;\">\n",
       "      <th></th>\n",
       "      <th>date</th>\n",
       "      <th>tobs</th>\n",
       "    </tr>\n",
       "  </thead>\n",
       "  <tbody>\n",
       "    <tr>\n",
       "      <th>0</th>\n",
       "      <td>2016-08-23</td>\n",
       "      <td>77.0</td>\n",
       "    </tr>\n",
       "    <tr>\n",
       "      <th>1</th>\n",
       "      <td>2016-08-24</td>\n",
       "      <td>77.0</td>\n",
       "    </tr>\n",
       "    <tr>\n",
       "      <th>2</th>\n",
       "      <td>2016-08-25</td>\n",
       "      <td>80.0</td>\n",
       "    </tr>\n",
       "    <tr>\n",
       "      <th>3</th>\n",
       "      <td>2016-08-26</td>\n",
       "      <td>80.0</td>\n",
       "    </tr>\n",
       "    <tr>\n",
       "      <th>4</th>\n",
       "      <td>2016-08-27</td>\n",
       "      <td>75.0</td>\n",
       "    </tr>\n",
       "    <tr>\n",
       "      <th>...</th>\n",
       "      <td>...</td>\n",
       "      <td>...</td>\n",
       "    </tr>\n",
       "    <tr>\n",
       "      <th>347</th>\n",
       "      <td>2017-08-14</td>\n",
       "      <td>77.0</td>\n",
       "    </tr>\n",
       "    <tr>\n",
       "      <th>348</th>\n",
       "      <td>2017-08-15</td>\n",
       "      <td>77.0</td>\n",
       "    </tr>\n",
       "    <tr>\n",
       "      <th>349</th>\n",
       "      <td>2017-08-16</td>\n",
       "      <td>76.0</td>\n",
       "    </tr>\n",
       "    <tr>\n",
       "      <th>350</th>\n",
       "      <td>2017-08-17</td>\n",
       "      <td>76.0</td>\n",
       "    </tr>\n",
       "    <tr>\n",
       "      <th>351</th>\n",
       "      <td>2017-08-18</td>\n",
       "      <td>79.0</td>\n",
       "    </tr>\n",
       "  </tbody>\n",
       "</table>\n",
       "<p>352 rows × 2 columns</p>\n",
       "</div>"
      ],
      "text/plain": [
       "           date  tobs\n",
       "0    2016-08-23  77.0\n",
       "1    2016-08-24  77.0\n",
       "2    2016-08-25  80.0\n",
       "3    2016-08-26  80.0\n",
       "4    2016-08-27  75.0\n",
       "..          ...   ...\n",
       "347  2017-08-14  77.0\n",
       "348  2017-08-15  77.0\n",
       "349  2017-08-16  76.0\n",
       "350  2017-08-17  76.0\n",
       "351  2017-08-18  79.0\n",
       "\n",
       "[352 rows x 2 columns]"
      ]
     },
     "execution_count": 160,
     "metadata": {},
     "output_type": "execute_result"
    }
   ],
   "source": [
    "df = pd.DataFrame(tobs_data)\n",
    "df"
   ]
  },
  {
   "cell_type": "code",
   "execution_count": 162,
   "metadata": {},
   "outputs": [
    {
     "data": {
      "image/png": "[encoded data removed]",
      "text/plain": [
       "<Figure size 1000x600 with 1 Axes>"
      ]
     },
     "metadata": {},
     "output_type": "display_data"
    }
   ],
   "source": [
    "# Plot the histogram of temperature observations\n",
    "plt.figure(figsize=(10, 6))\n",
    "plt.hist(df['tobs'], bins=12, color='skyblue', edgecolor='black')\n",
    "plt.xlabel('Temperature (F)')\n",
    "plt.ylabel('Frequency')\n",
    "plt.title('Temperature Observations for Station XYZ')\n",
    "plt.grid(axis='y', alpha=0.75)\n",
    "plt.show()"
   ]
  },
  {
   "cell_type": "markdown",
   "metadata": {},
   "source": [
    "# Close Session"
   ]
  },
  {
   "cell_type": "code",
   "execution_count": 163,
   "metadata": {},
   "outputs": [],
   "source": [
    "# Close Session\n",
    "session.close()"
   ]
  },
  {
   "cell_type": "code",
   "execution_count": null,
   "metadata": {},
   "outputs": [],
   "source": []
  }
 ],
 "metadata": {
  "anaconda-cloud": {},
  "kernel_info": {
   "name": "python3"
  },
  "kernelspec": {
   "display_name": "Python 3 (ipykernel)",
   "language": "python",
   "name": "python3"
  },
  "language_info": {
   "codemirror_mode": {
    "name": "ipython",
    "version": 3
   },
   "file_extension": ".py",
   "mimetype": "text/x-python",
   "name": "python",
   "nbconvert_exporter": "python",
   "pygments_lexer": "ipython3",
   "version": "3.11.7"
  },
  "nteract": {
   "version": "0.12.3"
  },
  "varInspector": {
   "cols": {
    "lenName": 16,
    "lenType": 16,
    "lenVar": 40
   },
   "kernels_config": {
    "python": {
     "delete_cmd_postfix": "",
     "delete_cmd_prefix": "del ",
     "library": "var_list.py",
     "varRefreshCmd": "print(var_dic_list())"
    },
    "r": {
     "delete_cmd_postfix": ") ",
     "delete_cmd_prefix": "rm(",
     "library": "var_list.r",
     "varRefreshCmd": "cat(var_dic_list()) "
    }
   },
   "types_to_exclude": [
    "module",
    "function",
    "builtin_function_or_method",
    "instance",
    "_Feature"
   ],
   "window_display": false
  }
 },
 "nbformat": 4,
 "nbformat_minor": 2
}
